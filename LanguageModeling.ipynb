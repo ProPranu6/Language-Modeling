{
 "cells": [
  {
   "cell_type": "code",
   "execution_count": 25,
   "id": "55c13321",
   "metadata": {},
   "outputs": [],
   "source": [
    "import ngram_lm\n",
    "from ngram_lm import NGrams, TextProcessing\n",
    "import wikipedia\n",
    "\n",
    "from urllib.request import urlopen\n",
    "from bs4 import BeautifulSoup\n",
    "\n",
    "\n",
    "def get_text(url):\n",
    "    html = urlopen(url).read()\n",
    "    soup = BeautifulSoup(html, features=\"html.parser\")\n",
    "\n",
    "    # kill all script and style elements\n",
    "    for script in soup([\"script\", \"style\"]):\n",
    "        script.extract()    # rip it out\n",
    "\n",
    "    # get text\n",
    "    text = soup.get_text()\n",
    "\n",
    "    # break into lines and remove leading and trailing space on each\n",
    "    lines = (line.strip() for line in text.splitlines())\n",
    "    # break multi-headlines into a line each\n",
    "    chunks = (phrase.strip() for line in lines for phrase in line.split(\"  \"))\n",
    "    # drop blank lines\n",
    "    text = [chunk for chunk in chunks if chunk]\n",
    "    \n",
    "    return \" \".join(text)"
   ]
  },
  {
   "cell_type": "code",
   "execution_count": 2,
   "id": "75968a86",
   "metadata": {},
   "outputs": [
    {
     "name": "stdout",
     "output_type": "stream",
     "text": [
      "Help on class NGrams in module ngram_lm:\n",
      "\n",
      "class NGrams(builtins.object)\n",
      " |  NGrams(train_text, preprocessing_class, N=2, **preprocessing_args)\n",
      " |  \n",
      " |  Methods defined here:\n",
      " |  \n",
      " |  __init__(self, train_text, preprocessing_class, N=2, **preprocessing_args)\n",
      " |      Initialize self.  See help(type(self)) for accurate signature.\n",
      " |  \n",
      " |  auto_generate(self, until_n_words=5)\n",
      " |  \n",
      " |  generate_n_grams(self, sens_tokens, n=2)\n",
      " |  \n",
      " |  generate_probs(self, sens_tokens, n=2)\n",
      " |  \n",
      " |  predict_next_word(self, test_text, given_n_words=2, if_print=True, for_gen=False)\n",
      " |  \n",
      " |  ----------------------------------------------------------------------\n",
      " |  Data descriptors defined here:\n",
      " |  \n",
      " |  __dict__\n",
      " |      dictionary for instance variables (if defined)\n",
      " |  \n",
      " |  __weakref__\n",
      " |      list of weak references to the object (if defined)\n",
      "\n"
     ]
    }
   ],
   "source": [
    "help(NGrams)"
   ]
  },
  {
   "cell_type": "code",
   "execution_count": 3,
   "id": "5efb0f50",
   "metadata": {},
   "outputs": [
    {
     "name": "stdout",
     "output_type": "stream",
     "text": [
      "Help on class TextProcessing in module ngram_lm:\n",
      "\n",
      "class TextProcessing(builtins.object)\n",
      " |  TextProcessing(allow_stop_words=True, auto_spell_correct=True)\n",
      " |  \n",
      " |  Methods defined here:\n",
      " |  \n",
      " |  __call__(self, text)\n",
      " |      Call self as a function.\n",
      " |  \n",
      " |  __init__(self, allow_stop_words=True, auto_spell_correct=True)\n",
      " |      Initialize self.  See help(type(self)) for accurate signature.\n",
      " |  \n",
      " |  clean_words(self, word)\n",
      " |  \n",
      " |  correct_words(self, raw_word, topn=1)\n",
      " |  \n",
      " |  make_edits(self, vocab, within_edits=2)\n",
      " |  \n",
      " |  sentence_segmentation(self, text)\n",
      " |  \n",
      " |  tokenization(self, text_sens)\n",
      " |  \n",
      " |  ----------------------------------------------------------------------\n",
      " |  Static methods defined here:\n",
      " |  \n",
      " |  add_sens_token(self, sen_tok)\n",
      " |  \n",
      " |  add_token(self, tok)\n",
      " |  \n",
      " |  ----------------------------------------------------------------------\n",
      " |  Data descriptors defined here:\n",
      " |  \n",
      " |  __dict__\n",
      " |      dictionary for instance variables (if defined)\n",
      " |  \n",
      " |  __weakref__\n",
      " |      list of weak references to the object (if defined)\n",
      " |  \n",
      " |  ----------------------------------------------------------------------\n",
      " |  Data and other attributes defined here:\n",
      " |  \n",
      " |  LISTOFCORRECTWORDS = ['a', 'abandon', 'ability', 'able', 'abortion', '...\n",
      "\n"
     ]
    }
   ],
   "source": [
    "help(TextProcessing)"
   ]
  },
  {
   "cell_type": "code",
   "execution_count": 56,
   "id": "f15f5a6a",
   "metadata": {},
   "outputs": [],
   "source": [
    "text_on_topic = open('C:/Users/T.PRANEETH/jaymama_chat.txt', 'r', encoding=\"utf8\", errors=\"ignore\").read().lower()\n",
    "lm1 = NGrams(text_on_topic, TextProcessing, N=4, allow_stop_words=True, auto_spell_correct=False)"
   ]
  },
  {
   "cell_type": "code",
   "execution_count": 60,
   "id": "d902adfe",
   "metadata": {},
   "outputs": [
    {
     "name": "stdout",
     "output_type": "stream",
     "text": [
      "AI generated text : \n",
      "\n",
      "Start Entering..:available on amazon\n",
      "060321 \n",
      "\n",
      "Start Entering..:on amazon prime\n",
      "jay mama \n",
      "\n",
      "Start Entering..:while taking exam\n",
      "the power was gone and i had 7 charge on the phone so i felt the need of a power bank and also that would be helpful when i go to college jay mama 110421 \n",
      "\n",
      "Start Entering..:<exit>\n"
     ]
    }
   ],
   "source": [
    "generator = lm1.auto_generate(until_n_words=50)\n",
    "while not(status:=next(generator)):\n",
    "    continue"
   ]
  },
  {
   "cell_type": "code",
   "execution_count": 59,
   "id": "631d29d8",
   "metadata": {},
   "outputs": [
    {
     "data": {
      "text/plain": [
       "'[23/08/19, 16:25:30] jay mama: \\u200emessages and calls are end-to-end encrypted. no one outside of this chat, not even whatsapp, can read or listen to them.\\n[23/08/19, 16:25:30] pranu: done jay mama i started my app installations with what’s app\\n\\u200e[23/08/19, 16:42:24] pranu: \\u200eimage omitted\\n\\u200e[23/08/19, 16:42:24] pranu: \\u200eimage omitted\\n[23/08/19, 18:23:47] jay mama: hi pranu\\n[23/08/19, 18:24:03] pranu: hi jay mama\\n[23/08/19, 18:24:16] pranu: will update my profile pic soon\\n[23/08/19, 18:24:19] jay mama: how to add u to kala group\\n[23/08/19, 19:46:26] jay mama: hey nice dp\\n[23/08/19, 19:46:58] pranu: thank you jay mama\\n[23/08/19, 19:47:17] jay mama: down load pinterest and myntra app\\n[23/08/19, 19:47:23] jay mama: start shopping\\n[23/08/19, 19:47:45] pranu: ok\\n[23/08/19, 19:52:04] jay mama: if want to buy any games buy it don’t hesitate\\n[23/08/19, 19:53:00] pranu: thank u ,thank u ,thank u lovely jay mama\\n[23/08/19, 19:53:15] pranu: i will use it when required\\n[28/08/19, 12:10:15] pranu: jay mama i got an alert that some one is trying to sign into my icloud account.is it something to worry??\\n[28/08/19, 15:56:17] jay mama: send me that mail\\n[28/08/19, 16:01:43] pranu: not the mail it was a flash messenger\\n[28/08/19, 16:01:52] pranu: *message\\n[28/08/19, 16:02:22] jay mama: oh ok did u get any one time password\\n[28/08/19, 16:03:02] pranu: no i got something like this\\n\\n“do you want to allow access to so and so person”\\n[28/08/19, 16:03:14] pranu: and i opted no don’t allow\\n[28/08/19, 16:03:18] jay mama: ok\\n\\u200e[29/08/19, 20:46:47] jay mama: \\u200eimage omitted\\n\\u200e[29/08/19, 20:46:48] jay mama: \\u200eimage omitted\\n[07/09/19, 08:07:32] jay mama: look into this \\n\\n\\nhttps://online-learning.harvard.edu/course/cs50-introduction-computer-science\\n[07/09/19, 08:10:52] pranu: thank u jay mama i will definitely look into this.\\n[22/09/19, 20:06:36] jay mama: \\u200emissed video call\\n[26/09/19, 03:37:13] jay mama: https://youtu.be/62tsiy5j4_0\\n[09/10/19, 04:12:32] jay mama: very useful stuff for you pranu. kindly read it when ur free \\n\\n\\n\\nhttps://www.preethikasireddy.com/posts/how-the-web-works-a-primer-for-newcomers-to-web-development-or-anyone-really/\\n\\u200e[09/10/19, 10:50:37] pranu: \\u200eimage omitted\\n[09/10/19, 10:56:05] pranu: https://youtu.be/b-ua5l9fmea\\n[09/10/19, 10:57:15] pranu: this is the same message i got and when checked the youtube i found that the message is false so can i just relax now? or is there anything still to worry about??\\n[09/10/19, 21:39:57] jay mama: don’t install anything\\n[09/10/19, 21:40:04] jay mama: call me\\n[21/10/19, 17:54:41] jay mama: https://grasshopper.app/?utm_source=hpp&utm_medium=owned&utm_campaign=grasshopper\\n[24/10/19, 21:06:47] jay mama: \\u200emissed video call\\n[03/11/19, 20:49:21] jay mama: \\u200emissed group video call\\n[05/11/19, 22:07:55] jay mama: https://code.org/\\n[03/12/19, 07:25:13] jay mama: https://www.freecodecamp.org/news/learn-the-fundamentals-of-functional-programming/\\n[06/02/20, 19:37:33] pranu: jay mama could u send me the account details of netflix. i am not able to stream it on my tv due to poor internet connectivity with my router\\n[06/02/20, 19:38:48] pranu: so i need account details to install the app and login into my shared netflix account .\\n[06/02/20, 19:48:18] jay mama: netflix account details :\\njharicv@me.com\\nnetflix5670!\\n[06/02/20, 19:48:39] pranu: thanks jay mama\\n[06/02/20, 19:50:27] pranu: pops up a message ‘incorrect password’\\n[06/02/20, 19:51:09] jay mama: try again properly pranu.\\n[06/02/20, 19:52:14] pranu: copy pasted it jay mama\\n[06/02/20, 19:52:47] pranu: same result\\n[06/02/20, 19:52:59] jay mama: ok wait\\n[06/02/20, 19:53:43] jay mama: changed netflix password - jharicv@me.com, password- jayacv5670!\\n[06/02/20, 19:54:59] pranu: worked!!! thanks jay mama....\\n[15/02/20, 21:37:44] pranu: nanna cell ki phone chae mama\\n[15/02/20, 21:37:57] jay mama: ok\\n\\u200e[15/02/20, 21:59:51] jay mama: \\u200evideo omitted\\n[16/02/20, 17:52:35] jay mama: give ur gmail is\\n\\u200e[16/02/20, 18:03:37] pranu: \\u200eimage omitted\\n[01/03/20, 20:48:17] jay mama: \\u200emissed video call\\n[17/03/20, 20:12:59] jay mama: https://www.mockplus.com/blog/post/best-online-coding-courses\\n[17/03/20, 21:15:59] pranu: thanks jay mama. i have seen it. it’s helpful\\n[22/03/20, 20:03:18] jay mama: https://www.amazon.in/dp/b07pb4g6rg/ref=cm_sw_r_wa_api_i_regzebkqpzxy6\\n\\u200e[22/03/20, 20:03:55] jay mama: \\u200eimage omitted\\n\\u200e[22/03/20, 20:03:57] jay mama: \\u200eimage omitted\\n[08/04/20, 00:40:07] jay mama: pranu sleep ra enough ra\\n[08/04/20, 00:41:13] jay mama: thanks a lot nana. will call u tomorrow\\n[08/04/20, 00:41:16] pranu: no prob jay mama it’s holidays\\n[08/04/20, 00:41:39] jay mama: don’t post anymore pics. people will be tried\\n[23/05/20, 20:15:31] jay mama: just for fun nana\\n\\u200e[23/05/20, 20:16:21] pranu: \\u200esticker omitted\\n[23/05/20, 20:16:22] pranu: chill!!!! jay mama\\n[23/05/20, 20:17:00] pranu: need not specify jay mama i aspire this humour attitude of yours\\n[23/05/20, 20:53:03] jay mama: pranu do u have bank account\\n[23/05/20, 20:53:22] pranu: nooope\\n[23/05/20, 20:53:29] pranu: why?!\\n[23/05/20, 20:53:52] jay mama: after lockdown open. open one bank pranu.\\n[23/05/20, 20:53:59] jay mama: i shall tell later\\n[23/05/20, 20:54:08] pranu: ok jay mama\\n[23/05/20, 20:54:13] pranu: done 👍\\n\\u200e[16/06/20, 00:27:13] pranu: \\u200evideo omitted\\n[16/06/20, 00:27:40] pranu: this above one is an intro editing done by me today for our short film\\n[16/06/20, 00:28:12] pranu: this one has more editing elements in it and the banner that appears at the first is self created\\n[21/07/20, 10:24:27] pranu: jay mama could you call me now?\\n[25/07/20, 23:14:10] jay mama: https://youtu.be/ku5wbyts3qy\\n\\u200e[26/07/20, 11:06:25] pranu: \\u200evideo omitted\\n\\u200e[26/07/20, 11:06:25] pranu: \\u200evideo omitted\\n\\u200e[26/07/20, 11:06:26] pranu: \\u200evideo omitted\\n[26/07/20, 11:09:40] pranu: jay mama we though of giving vehicles, other than those that belong to hyundai, a try as we wanted our car to be something new into the society like honda city (the new version) or kia seltos or mg( but this didn’t fit into the budget)\\n[26/07/20, 11:10:40] jay mama: ok nice\\n[26/07/20, 11:10:45] jay mama: who’s is driving\\n[26/07/20, 11:10:54] jay mama: the car\\n[26/07/20, 11:10:58] jay mama: you or dad\\n[26/07/20, 11:15:52] pranu: well both\\n[26/07/20, 11:16:09] pranu: just like the i20\\n[26/07/20, 11:16:25] pranu: thoughts about my car haven’t been pondered over yet\\n[26/07/20, 11:17:44] pranu: well even venue is new into the society but yet we’ll didn’t like the model for unknown reasons\\n[26/07/20, 11:18:17] jay mama: ya check on those website and videos in our budget\\n[26/07/20, 11:19:50] pranu: hmm.. currently on it in fact we’re planning to pay a visit to the honda city and kia showrooms\\n[26/07/20, 11:19:59] pranu: to have a clear set look at the cars\\n[26/07/20, 11:20:11] jay mama: ok 👍🏻\\n[26/07/20, 11:20:58] pranu: ok jay mama i think it’s real mid night for u good night then bye\\n[26/07/20, 11:21:14] jay mama: yes nana to tomorrow\\n[26/07/20, 11:21:18] jay mama: i have flights\\n[26/07/20, 11:21:22] jay mama: to virginia\\n[26/07/20, 11:21:41] pranu: ohh\\n[28/07/20, 09:19:57] pranu: jay mama, yesterday after u said abt those anonymous logins into babaye’s account, i just intimated all my friends in a soft tone to double check that they are entering netflix only through my profile, but they replied they never did enter any other profile and also i personally keep checks on them and their viewing history regularly. for sure these are not the guys and i guess it could have been pranu’s (pranay’s) friends. just guess\\n[28/07/20, 09:39:56] jay mama: ok no problem\\n[28/07/20, 09:40:06] jay mama: it’s all part of youth life\\n[28/07/20, 09:51:43] pranu: i know but just making it clear that it’s not my friends and by the way, besides cautioning my friends about login i myself ironically logged into babaye’s account by mistake this morning!\\n\\ni know it’s coming youth life as u said but this time it’s not we \\n\\nthat was a punch line(😜) 😁😁\\n[28/07/20, 09:52:17] pranu: okay gn jay mama, might have been really tiered\\n[15/08/20, 10:32:44] pranu: jay mama, found this on youtube\\n[15/08/20, 10:32:47] pranu: https://youtu.be/tpnehubo5ae\\n[15/08/20, 10:33:19] pranu: though in this video it shows how to connect pc to imac, it also works with a windows laptop\\n[15/08/20, 10:34:28] pranu: perks: no need of any ports or cables everything\\'s done wirelessly\\n[15/08/20, 10:36:12] pranu: loop hole: i need to uninstall windows seven residing on my imac and install windows 10 for all of this to happen i need to get my mac keyboard fixed in the first place(which could be done once we go to vijayawada)\\n[15/08/20, 10:47:45] jay mama: check the cable option pranu\\n[15/08/20, 10:59:14] pranu: i’ll but why cable when it can be done without cable?\\n[15/08/20, 11:07:27] pranu: https://www.fonepaw.com/recorder/use-imac-as-monitor-for-pc.html\\n[15/08/20, 11:07:47] pranu: we need a hdmi to thunderbolt connector\\n[21/08/20, 08:24:10] jay mama: pranu login to amazon venkatajay567@gmail.com, jayacv5670!\\n[21/08/20, 08:24:36] jay mama: to watch man who knew infinity\\n[21/08/20, 08:25:47] pranu: oh great!! thanks a jay mama\\n[21/08/20, 08:42:40] jay mama: watch before 48 hours from now nana\\n[21/08/20, 08:43:26] pranu: sure jay mama!! morning i have classes to take so i’ll watch it tonight\\n\\u200e[21/08/20, 19:44:13] pranu: \\u200eimage omitted\\n[21/08/20, 19:44:34] jay mama: .com\\n[21/08/20, 19:44:41] pranu: ok\\n[21/08/20, 19:45:51] pranu: otp pls\\n[21/08/20, 19:46:00] jay mama: 913035 is your amazon otp. do not share it with anyone.\\n[21/08/20, 19:46:54] pranu: done jay mama\\n[21/08/20, 19:47:03] jay mama: enjoy 😊\\n[21/08/20, 22:04:07] pranu: just now finished watching the movie. that’s been a great movie to watch. my respect for him grew at least by a bit more after watching this film. all thanks to you jay mama!!! this is one is a cracker of a biopic for sure\\n[21/08/20, 23:39:39] jay mama: true 👍🏻\\n[23/08/20, 12:07:41] jay mama: pranu what is the app to create to video with music apart from imovies\\n[23/08/20, 12:25:13] pranu: use filmora jay mama\\n[23/08/20, 12:26:30] pranu: licensed e-mail: c2941647@drdrb.com\\nregistration code: 10403029cf3644154841651af141e800\\n\\nlicensed e-mail: c2941690@drdrb.com\\nregistration code: 510b3c20a9e54e0ff1d2fc28bad1220e\\n\\nlicensed e-mail: c2942163@drdrb.com\\nregistration code: 35706e040c63ee00e377911bb9a3b301\\n\\nlicensed e-mail: c2942269@drdrb.com\\nregistration code: 00289623f7b3b81e14aeb526144b6d08\\n\\nlicensed e-mail: bidjan@ziggo.nl \\nkey : ce8b0909eec77b27dfea94190f3a0223\\n\\nlicensed e-mail: c2941690@drdrb.com\\nkey: 510b3c20a9e54e0ff1d2fc28bad1220e\\n\\nlicensed e-mail: c2942163@drdrb.com\\nkey: 35706e040c63ee00e377911bb9a3b301\\n\\nlicensed e-mail: c2943267@drdrb.com\\nkey: d772be0279afe60af0e1d2109ca89a19\\n\\nlicensed e-mail: c2943297@drdrb.com\\nkey: fb9694298253b51545e70d22b3033808\\n\\nlicensed e-mail: c2941647@drdrb.com\\nkey: 10403029cf3644154841651af141e800\\n\\nlicensed e-mail: c2941690@drdrb.com\\n key : 510b3c20a9e54e0ff1d2fc28bad1220e\\n\\nlicensed e-mail: c2942163@drdrb.com\\nkey : 35706e040c63ee00e377911bb9a3b301\\n\\nlicensed e-mail: c2942269@drdrb.com\\n key : 00289623f7b3b81e14aeb526144b6d08\\n\\nlicensed e-mail: c2943267@drdrb.com\\nkey : d772be0279afe60af0e1d2109ca89a19\\n\\nlicensed e-mail: c2943297@drdrb.com\\nkey : fb9694298253b51545e70d22b303380\\n[23/08/20, 12:26:43] pranu: and jay mama use the above lisence mail ids\\n[23/08/20, 12:26:48] pranu: to remove water mark\\n[23/08/20, 12:27:14] pranu: from the videos created using filmora with out having to subscribe for the paid version\\n[23/08/20, 19:19:54] jay mama: nice dp pranu\\n[23/08/20, 19:42:55] pranu: thank u jay mama. so the dp is nice to be noticed....\\n[23/08/20, 19:42:57] pranu: hmm\\n\\u200e[23/08/20, 19:44:20] pranu: \\u200eaudio omitted\\n\\u200e[23/08/20, 19:44:27] pranu: \\u200eaudio omitted\\n[23/08/20, 21:07:45] pranu: \\u200eyou deleted this message.\\n[23/08/20, 21:08:30] pranu: \\u200eyou deleted this message.\\n[23/08/20, 21:09:07] pranu: \\u200eyou deleted this message.\\n[23/08/20, 21:09:46] pranu: \\u200eyou deleted this message.\\n[23/08/20, 21:15:12] pranu: ignore all those deleted messages jay mama, they were meant to be sent to my friends just some pics of my code work\\n\\u200e[25/08/20, 23:23:49] pranu: \\u200eimage omitted\\n[25/08/20, 23:24:03] jay mama: ok thanks pranu\\n[29/08/20, 02:17:26] jay mama: https://www.instagram.com/tv/cdn9g5xj8yx/?igshid=dumpn1wa4wre\\n[29/08/20, 07:38:53] pranu: raw!!! yet funny. in fact jay mama in our batch too there was a guy, he attended the college for the first 2-3 months of first year and disappeared suddenly and finally just before 2 months to iit exams in second year he appeared. he was the centre of attraction then when sirs asked him what happened to him all these 1:5 years, he said like he was preparing for ca exams and now he wanted to prepare for jee so he came\\n[29/08/20, 07:39:14] pranu: almost similar to answers given in the video but no cuss words\\n[29/08/20, 07:39:44] pranu: finally, lecturers took him in as he has a point “i paid fee now what’s ur problem”\\n[30/08/20, 12:24:38] pranu: though it doesn’t work always, yet it’s still a fun always to fool others. isn’t it??!!\\n\\nhttps://youtu.be/b-vczliyfxc\\n[01/09/20, 19:30:50] pranu: jay mama where do u get your whatsapp stickers from?\\n[01/09/20, 19:31:12] jay mama: form whom ?\\n[01/09/20, 19:31:15] jay mama: from whom ?\\n[01/09/20, 19:31:24] pranu: like which app?\\n[01/09/20, 19:31:36] pranu: there are very limited out there for iphones right?\\n[01/09/20, 19:31:37] jay mama: meme ?\\n[01/09/20, 19:31:42] pranu: yeah\\n[01/09/20, 19:31:48] pranu: like whatsapp stickers\\n[01/09/20, 19:31:47] jay mama: tenor\\n[01/09/20, 19:31:58] pranu: yeah this one\\n[01/09/20, 19:32:09] pranu: great thanks jay mama\\n[09/09/20, 07:31:29] jay mama: https://youtu.be/mwiirg3arzm\\n[09/09/20, 08:05:09] pranu: latest news right jay mama? this seems to be lot cooler than xbox series x. what do u say?\\n[11/09/20, 02:54:42] jay mama: https://youtu.be/oaken21vbmm\\n[11/09/20, 14:08:15] pranu: \\u200eyou deleted this message.\\n[11/09/20, 14:09:42] pranu: hmm everything’s great but then what abt optical drive thingy jay mama? we don’t  have it in xbox s right?\\n[11/09/20, 14:10:06] pranu: like what are the alternatives to the games if not cds?\\n[19/09/20, 19:28:15] pranu: jay mama did u receive any mail regarding verification code from tatasky\\n[19/09/20, 19:28:23] pranu: if so could u send the code\\n[19/09/20, 19:28:38] pranu: asap my friend is accessing our tatasky to watch ipl\\n[19/09/20, 19:28:40] jay mama: to which email i’d\\n[19/09/20, 19:28:48] pranu: the one starting with j\\n[19/09/20, 19:28:58] pranu: any such?\\n[19/09/20, 19:31:13] jay mama: no pranu i didn’t receive\\n[19/09/20, 19:31:24] jay mama: why my email is used ?\\n[19/09/20, 19:31:30] pranu: ok jay mama don’t know\\n[19/09/20, 19:31:33] pranu: like hold on\\n\\u200e[19/09/20, 19:31:45] pranu: \\u200eimage omitted\\n[19/09/20, 19:31:51] pranu: this is what it showed\\n[19/09/20, 19:31:59] pranu: the mail there started with j\\n[19/09/20, 19:32:18] pranu: and nanna is a out with low internet that’s why he’s not receiving the otps\\n[19/09/20, 19:32:44] jay mama: ok wait let me look deeply in gmail\\n[19/09/20, 19:33:04] pranu: hmm only if u r free jay mama\\n[19/09/20, 19:34:29] jay mama: cancel and request again\\n[19/09/20, 19:34:42] pranu: ok on it\\n[19/09/20, 19:48:08] pranu: jay mama relax seems like my friend accessed wrong website he went to the accounts website\\n[19/09/20, 19:48:30] pranu: might get solved without ur intervention\\n[19/09/20, 19:48:50] jay mama: oh no 🤦\\u200d♂️\\n[19/09/20, 19:48:58] jay mama: ok let me know if any nice dp\\n[19/09/20, 19:49:28] pranu: thank u jay mama\\n\\u200e[19/09/20, 23:45:58] jay mama: \\u200eimage omitted\\n[20/09/20, 00:04:16] pranu: hmm i’ll make note of this jay mama\\n[20/09/20, 00:05:40] jay mama: i think it would be expired\\n[20/09/20, 00:06:14] pranu: why? so should o reset the details again\\n[20/09/20, 00:06:16] pranu: ?\\n[20/09/20, 00:06:23] pranu: *i\\n[20/09/20, 00:06:28] jay mama: request again\\n[20/09/20, 00:06:36] jay mama: i shall share the password\\n[20/09/20, 00:06:45] pranu: ok\\n[20/09/20, 00:08:41] pranu: jay mama u should have got it\\n[20/09/20, 00:09:45] jay mama: password- ybg6t5\\n[20/09/20, 00:10:56] pranu: done jay mama\\n[20/09/20, 00:10:59] pranu: thanks\\n[20/09/20, 00:11:26] pranu: i was waiting for the reset password to come to nanna’s phone but it didn’t show up\\n[20/09/20, 00:11:31] jay mama: cool\\n[20/09/20, 00:11:36] pranu: and so were those multiple requests\\n[26/09/20, 18:01:25] jay mama: https://www.instagram.com/p/cfmv4daji0r/?igshid=14o5aekyj9trg\\n[26/09/20, 18:04:38] jay mama: https://www.instagram.com/p/cfbrty0peuu/?igshid=13c2adoldyw17\\n[26/09/20, 18:38:23] pranu: 😂🤣😇\\n[26/09/20, 18:38:31] pranu: *last emoji typo\\n[26/09/20, 18:38:34] pranu: 😂\\n[26/09/20, 19:25:29] pranu: super funny jay mama perfect lip sink\\n[27/09/20, 00:00:23] pranu: the \"le petit chef (little chef)\" restaurant in france, came up with an original way to entertain guests while waiting for their order by using an overhead 3d projector on the ceiling.\\xa0 the animation is on the table and your plate. there is a small chef who appears on your plate, and that’s only the beginning.\\n\\u200e[27/09/20, 00:00:23] pranu: \\u200evideo omitted\\n[27/09/20, 19:55:05] jay mama: https://www.ikea.com/in/en/p/linnmon-adils-table-white-black-s99246418/\\n[27/09/20, 20:19:53] pranu: jay mama we feel the chair is more of a issue here than the table. so also send ur recommendations on chairs\\n[27/09/20, 20:19:59] pranu: the chair u have now would do\\n[27/09/20, 20:20:26] jay mama: that chair is not available in ikea india pranu\\n[27/09/20, 20:21:06] pranu: can we find the same model in any other stores\\n[27/09/20, 20:21:31] pranu: or any model similar to that\\n[27/09/20, 20:21:52] pranu: i too will search now once\\n[27/09/20, 20:22:22] pranu: could u send me ur chair model so that i can search\\n[27/09/20, 20:22:30] jay mama: https://www.flipkart.com/furniture/chairs/office-study-chairs/pr?sid=wwe,y7b,foc\\n[27/09/20, 20:22:44] jay mama: https://www.pepperfry.com/furniture-office-furniture-office-chairs-ergonomic-chairs.html\\n\\u200e[30/09/20, 22:27:25] pranu: \\u200eimage omitted\\n\\u200e[09/10/20, 09:01:35] pranu: \\u200eimage omitted\\n[10/10/20, 16:22:33] jay mama: really epic 😃\\n\\u200e[10/10/20, 16:22:44] jay mama: \\u200eimage omitted\\n[10/10/20, 16:23:04] pranu: 😂🤣\\n[10/10/20, 16:23:12] pranu: valid point to argue with\\n\\u200e[10/10/20, 16:23:30] jay mama: \\u200esticker omitted\\n[10/10/20, 16:23:48] pranu: 😂\\n[10/10/20, 21:00:07] pranu: jay mama i’ll send u the credentials in abt 20 mins or so having dinner\\n[10/10/20, 21:00:22] jay mama: ok\\n[10/10/20, 21:20:23] pranu: mail id : prasad5670@gmail.com\\npassword : hometheatre6\\n[14/10/20, 20:36:15] pranu: https://www.instagram.com/p/cgu3daljzuq/?igshid=1i6op6p611cj7\\n[15/10/20, 18:02:51] pranu: jay mama\\n[15/10/20, 18:03:31] pranu: my keyboard thing we went through all the stores apple non apple but no use it needs to be replaced\\n[15/10/20, 18:05:54] pranu: i have searched for the prices and these are the estimates :\\n\\nnon numerical keyboard (inr ) 8900\\n\\nnumerical keyboard (inr) \\n11900\\n\\nnon numerical keyboard (usd)\\n99\\n\\nnumerical keyboard (usd)\\n129\\n\\ni prefer numerical cause it’s the latest one and also chargeable no head ache of batteries being corroded or stuck again\\n[15/10/20, 18:06:27] pranu: so which way is it? shall i buy it here or will u buy there?\\n[15/10/20, 21:06:31] pranu: jay mama placed order for a 300 rs usb keyboard\\n[15/10/20, 21:06:56] pranu: and also checked out and found that we can connect through usb keyboards at login\\n[15/10/20, 21:07:01] pranu: so this should work\\n[15/10/20, 21:15:34] jay mama: super\\n\\u200e[15/10/20, 21:18:00] pranu: \\u200eimage omitted\\n[15/10/20, 21:18:21] pranu: and also guest user account is locked from inside so that’s out of thought now\\n[19/10/20, 14:54:34] pranu: jay mama got the usb keyboard and it’s working\\n[19/10/20, 14:55:47] pranu: so jay mama suggest a nice bluetooth keyboard\\n[19/10/20, 20:17:19] jay mama: will look into\\n[19/10/20, 20:17:36] jay mama: super\\n[19/10/20, 20:49:25] pranu: 👍\\n[19/10/20, 20:55:18] pranu: jay mama\\n[19/10/20, 20:55:22] pranu: have a look at this\\n[19/10/20, 20:55:25] pranu: https://www.amazon.com/gp/product/b01lzak8mm?tag=rtings-kb-p-20&ie=utf8&th=1&psc=1\\n[19/10/20, 20:55:32] pranu: i pretty much like it\\n[19/10/20, 20:56:21] jay mama: ya good will that keyboard work for  coding ?\\n[19/10/20, 20:56:29] pranu: yep\\n[19/10/20, 20:56:37] jay mama: how much\\n[19/10/20, 20:56:47] pranu: 52$\\n[19/10/20, 20:56:52] pranu: 3744 rs\\n[19/10/20, 20:56:58] pranu: searching for indian price\\n[19/10/20, 20:57:00] pranu: and stock\\n[19/10/20, 20:57:39] pranu: ya like price tag mentioned in dollars but deliver to india option available\\n[19/10/20, 20:58:04] jay mama: ok let me check\\n[19/10/20, 20:59:28] pranu: jay mama indian price 11000\\n[19/10/20, 20:59:51] pranu: i think i should find some other model in logitech itself i pretty much liked their button design\\n[19/10/20, 22:26:28] jay mama: logitech mk215 wireless keyboard and mouse combo for windows, 2.4 ghz wireless, compact design, 2-year battery life(keyboard),5 month battery life(mouse) pc/laptop- black https://www.amazon.in/dp/b012mqs060/ref=cm_sw_r_wa_api_i_vucjfb2k3wjqp\\n[19/10/20, 22:27:25] jay mama: logitech mk270r wireless keyboard and mouse combo for windows, 2.4 ghz wireless, compact wireless mouse, 8 multimedia & shortcut keys, 2-year battery life, pc/laptop- black https://www.amazon.in/dp/b00ceqegpi/ref=cm_sw_r_wa_api_i_lvcjfbm6hpap0\\n[27/10/20, 22:27:38] pranu: check out \"oke oka jeevitham\" from mr. nookayya on jiosaavn!\\n\\nhttps://www.saavn.com/s/song/telugu/mr.-nookayya/oke-oka-jeevitham/ayu,vrlzq0o?referrer=utm_medium=whatsapp&utm_source=whatsapp\\n[07/11/20, 10:45:56] pranu: jay mama we are planning to replace our old tv with a new one!! do u know of any new models? if free call\\n[07/11/20, 20:01:57] jay mama: oh nice\\n[07/11/20, 20:02:11] jay mama: will call you nana\\n[07/11/20, 20:04:40] pranu: ya ok jay mama no hurry\\n[15/11/20, 19:27:19] pranu: jay mama my old profile in netflix is gone however i have an option to add profile!! i’m creating a new one under your account\\n\\u200e[21/11/20, 06:16:10] jay mama: \\u200evideo omitted\\n[21/11/20, 09:17:20] pranu: jay mama waiting for your feed\\n[21/11/20, 10:53:39] pranu: jay mama how long could it take?\\n[21/11/20, 10:53:49] jay mama: we are ready\\n\\u200e[22/11/20, 11:49:24] jay mama: \\u200eimage omitted\\n[22/11/20, 12:37:10] pranu: 🤣🤣\\n[18/12/20, 07:31:25] jay mama: call me pranu\\n[18/12/20, 07:31:36] jay mama: when your free\\n[18/12/20, 08:20:30] pranu: https://youtu.be/sw7bpujoqpo\\n[18/12/20, 08:26:11] pranu: this is a lengthy review and neither me has gone through it but seems like a good one from the views and the guy who’s giving it! anyways, i’m hell bent on to xbox cause i fell for the game “forza horizon 4” anyways have a look jay mama! and state your opinion!!\\n\\n\\nhttps://youtu.be/jq-odza3kpc\\n[18/12/20, 09:23:37] jay mama: oh super will check our pranu\\n[18/12/20, 09:23:49] jay mama: let me check other reviews\\n[18/12/20, 09:23:51] jay mama: as well\\n[18/12/20, 09:24:30] pranu: ya sure jay mama!\\n[18/12/20, 20:39:43] jay mama: don’t post that mass video ra\\n[18/12/20, 20:39:57] jay mama: it’s funny 😄\\n[23/12/20, 20:20:25] pranu: this review was made much before the release of either of these consoles but it was pretty much right about hardware specs! so might help jay mama!!\\n\\n\\nhttps://youtu.be/-vhojyjwuxq\\n[05/01/21, 18:56:35] pranu: jay mama did u review about buying the xbox?\\n[05/01/21, 18:56:44] pranu: i’m just a so very curious to have it asap\\n\\u200e[05/01/21, 21:39:54] jay mama: \\u200eimage omitted\\n[05/01/21, 21:40:06] jay mama: all sold out pranu\\n[05/01/21, 21:40:16] jay mama: waiting for to be back in stock\\n[05/01/21, 21:40:25] jay mama: is it available in india ?\\n[05/01/21, 21:41:45] pranu: ya jay mama like on amazon\\n[05/01/21, 21:41:56] jay mama: really\\n[05/01/21, 21:42:02] jay mama: how much ?\\n[05/01/21, 21:42:11] jay mama: is it officially launched in india\\n[05/01/21, 21:43:36] pranu: oh wait\\n[05/01/21, 21:43:41] pranu: out it stick jay mama\\n[05/01/21, 21:43:49] pranu: but ya it’s officially released and costs\\n[05/01/21, 21:43:54] pranu: 49,900\\n[05/01/21, 21:44:06] pranu: *out of stock\\n[05/01/21, 21:44:23] jay mama: in usa 37,000\\n[05/01/21, 21:44:31] jay mama: 12k difference\\n[05/01/21, 21:44:42] jay mama: but stock is not there\\n[06/01/21, 04:28:26] jay mama: https://youtu.be/4lqcspba6ru\\n[06/01/21, 04:29:12] jay mama: https://youtu.be/9uomectkccs\\n[06/01/21, 04:29:32] jay mama: our today discussion in video. watch it when free pranu\\n[06/01/21, 09:22:57] pranu: that was a great talk jay mama. this is really really gone shape the way i think whenever i think of innovations.\\n[06/01/21, 09:23:14] pranu: i’ll keep following his talks now on\\n[08/01/21, 20:51:00] jay mama: \\u200emissed group video call\\n[23/01/21, 21:56:15] jay mama: \\u200emissed video call\\n\\u200e[28/01/21, 23:54:40] pranu: idea 104 - dream-discover-disrupt - i.docx • \\u200e2 pages \\u200edocument omitted\\n[28/01/21, 23:55:24] pranu: this is our elective course offering jay mama it’s not available to us now but anyway would be available in third year\\n\\u200e[29/01/21, 08:43:10] pranu: minor courses offered for 2019 batch.docx • \\u200e1 page \\u200edocument omitted\\n[29/01/21, 08:43:39] pranu: these are all the minors that are being offered this sem\\n[29/01/21, 09:07:43] jay mama: sure pranu will checkout and let you know by sunday\\n[29/01/21, 09:08:10] pranu: ya jay mama no probs\\n[29/01/21, 09:09:56] pranu: but just be known that the deadline for this registration is 31.1.2021 and it’s limited seats\\n[29/01/21, 09:16:53] jay mama: this is really interesting course pranu. take it whenever available\\n[29/01/21, 09:17:49] jay mama: ai & ml course feels valuable. what u think nana ?\\n[29/01/21, 09:18:27] pranu: ya but this is for other departments other than cse cause we will get this in the main stream in third year\\n[29/01/21, 09:19:17] pranu: so this would be available in third year jay mama as it is an elective so i’ll pick it when offered to me\\n[29/01/21, 09:21:30] pranu: so jay mama i feel for this sem i could just start an online psychology course and let go the minors. and in the third sem as you said i could pick the idea 104 course as elective\\n[29/01/21, 09:22:38] jay mama: ok 👍🏻\\n[29/01/21, 09:22:56] pranu: because taking any minor now could burden the work of taking that interesting idea 104 course in next year\\n[29/01/21, 09:23:14] pranu: because minor lasts for 4 years\\n[29/01/21, 09:24:33] jay mama: oh nice , do whatever u feel interesting u know better than anyone\\n[29/01/21, 09:25:18] pranu: true ok then this sem a self learning online yale university psychology course and next year the bba elective\\n[06/02/21, 00:45:10] jay mama: https://youtu.be/qa727dogp3y\\n[11/02/21, 23:23:21] pranu: watch this on amazon prime jay mama!! really a great one!\\n\\nhttps://youtu.be/dlnmqbpguls\\n[11/02/21, 23:23:40] jay mama: ok will do\\n[14/02/21, 20:18:02] jay mama: https://youtu.be/uclz92vuyjy\\n\\u200e[27/02/21, 12:57:49] pranu: \\u200eimage omitted\\n[27/02/21, 21:54:28] jay mama: i would say to wait pranu.\\n[27/02/21, 21:54:48] jay mama: we don’t if it real of products have been replaced or not ?\\n[27/02/21, 21:54:54] pranu: ya sure jay mama\\n[27/02/21, 21:55:06] pranu: and also i got to know that’s xbox series x\\n[27/02/21, 21:55:17] pranu: is getting available\\n[27/02/21, 21:55:20] pranu: on amazon\\n[27/02/21, 21:55:22] pranu: soon\\n[27/02/21, 21:55:32] pranu: like from april\\n[27/02/21, 21:55:34] jay mama: u shall get in a month or 2.\\n[27/02/21, 21:55:48] jay mama: i’m planning to india in june\\n[27/02/21, 21:56:26] pranu: ya that’s what! just to make an enquiry of reliability of this website i posted the image\\n[27/02/21, 21:56:42] pranu: great news!\\n[06/03/21, 16:58:28] pranu: jay mama just now while chatting with my friends, it just came up that you pay for my netflix account! and they were like “ur uncle is super cool!! netflix is costly and it’s super cool that you are enjoying netflix for free because of your uncle”\\n[06/03/21, 16:59:26] pranu: that’s really cool jay mama! 😎😎it’s not just me who enjoyed but also shared it to my other friends for free, all thanks to you!\\n\\u200e[06/03/21, 17:07:19] pranu: \\u200eimage omitted\\n\\u200e[06/03/21, 17:07:19] pranu: \\u200eimage omitted\\n\\u200e[06/03/21, 18:57:07] jay mama: \\u200egif omitted\\n[06/03/21, 18:59:20] pranu: 🤣🤣\\n[06/03/21, 18:59:30] pranu: #gifking\\n[06/03/21, 19:00:54] jay mama: x box series x kada pranu\\n[06/03/21, 19:01:03] pranu: ejactly\\n[06/03/21, 19:01:06] pranu: jay mama\\n\\u200e[06/03/21, 19:02:06] jay mama: \\u200eimage omitted\\n[06/03/21, 19:02:59] pranu: hmm “out of stock”!! in a very great demand\\n[06/03/21, 19:03:37] jay mama: they are not making enough products. don’t know why\\n[06/03/21, 19:04:13] pranu: i gotta a news that soon it’s going to be available on amazon\\n[06/03/21, 19:04:20] pranu: something like from april\\n[06/03/21, 19:05:21] jay mama: let’s wait and see playstation is available\\n[06/03/21, 19:05:47] pranu: it seems that people with computers and tech knowledge are using bots to buy xbox soon after they get into stores!! since bots are faster than humans they are making transactions faster and these tech guys are later selling the products for double the price\\n[06/03/21, 19:06:06] jay mama: https://youtu.be/kjfu78xo7zm\\n[06/03/21, 19:06:44] pranu: ya but jay mama there’s actually nothing good to play on play station like i would like to play forza, red dead redemption and games like that they are top notch\\n[06/03/21, 19:07:05] pranu: and xbox series s is that we have to pay subscription so that’s gonna cost us more than series x\\n[06/03/21, 19:07:11] pranu: in two to three years\\n[06/03/21, 19:07:38] pranu: which could be played on xbox alone by the way\\n[06/03/21, 19:08:02] jay mama: oh no 🤦\\u200d♂️ inka wait cheyyaddam. thappa we can’t do anything kada\\n[06/03/21, 19:09:18] pranu: yaa no probs seems like series x gonna come soon\\n[06/03/21, 19:09:33] pranu: i waited this long i’m ready to wait a couple more months\\n[06/03/21, 19:09:51] pranu: because even if i get series s or play station i won’t be satisfied\\n[07/03/21, 14:42:41] pranu: https://www.techradar.com/in/news/xbox-series-x-restock-tracker-march\\n[07/03/21, 23:09:58] pranu: available on amazon prime\\n\\nhttps://youtu.be/lny9fwuty84\\n[18/03/21, 08:39:18] jay mama: nice review \\n\\nhttps://youtu.be/wxpdlwlq5py\\n[18/03/21, 11:02:09] pranu: ya really a nice one\\n[19/03/21, 18:19:14] pranu: \\u200eyou deleted this message.\\n[19/03/21, 18:20:45] pranu: \\u200eyou deleted this message.\\n[21/03/21, 18:55:55] jay mama: how us college admissions works ?\\n\\n\\nseen “operation varsity blues:\\xa0the\\xa0college\\xa0admissions\\xa0scandal” on netflix yet?\\n\\nhttps://www.netflix.com/title/81130691?s=i&trkid=13747225&t=wha\\n[21/03/21, 20:01:36] pranu: watched the trailer jay mama seems pretty much interesting will give it a watch\\n[21/03/21, 20:01:38] pranu: for sure\\n\\u200e[30/03/21, 21:49:28] pranu: \\u200eimage omitted\\n\\u200e[30/03/21, 21:50:31] jay mama: \\u200esticker omitted\\n[30/03/21, 21:50:38] jay mama: so funny pranu\\n[30/03/21, 21:51:11] jay mama: similar to somebody , nobody jokes\\n[30/03/21, 22:48:47] pranu: ya 😆😆\\n[31/03/21, 16:02:22] pranu: who’s not gonna like it?\\n\\nhttps://youtu.be/kwrh01ksvpw\\n[11/04/21, 09:29:19] pranu: jay mama suggest me a power bank for the phone i badly need one!\\n[11/04/21, 09:29:38] pranu: especially with a lower battery capacity for the iphone 7\\n\\u200e[11/04/21, 16:55:38] jay mama: \\u200eimage omitted\\n[11/04/21, 16:55:56] jay mama: what happened any problem with phone pranu\\n[11/04/21, 17:05:00] pranu: generally the battery of iphone 7 is less right it gets completed soon and also recently while taking exam the power was gone and i had 7% charge on the phone so i felt the need of a power bank and also that would be helpful when i go to college jay mama\\n[11/04/21, 17:05:30] pranu: so even amma was asking for a power bank without need to carry a charger (although we just have one now)\\n[11/04/21, 17:25:52] jay mama: ok buy 10000 or 15000 mah power bank\\n[11/04/21, 17:26:34] pranu: ya thought the same jay mama! so mi power bank would be nice right?\\n[11/04/21, 17:26:49] jay mama: yes 👍🏻\\n[11/04/21, 17:26:58] jay mama: all are same\\n[11/04/21, 17:27:32] pranu: ohh ok\\n[14/04/21, 05:46:31] jay mama: eey killer dp pic 👏🏻👏🏻👏🏻\\n[14/04/21, 07:36:07] pranu: thank you jay mama\\n'"
      ]
     },
     "execution_count": 59,
     "metadata": {},
     "output_type": "execute_result"
    }
   ],
   "source": [
    "text_on_topic"
   ]
  },
  {
   "cell_type": "code",
   "execution_count": null,
   "id": "74b3724b",
   "metadata": {},
   "outputs": [],
   "source": []
  },
  {
   "cell_type": "code",
   "execution_count": null,
   "id": "b377e5bb",
   "metadata": {},
   "outputs": [],
   "source": []
  }
 ],
 "metadata": {
  "kernelspec": {
   "display_name": "Python 3",
   "language": "python",
   "name": "python3"
  },
  "language_info": {
   "codemirror_mode": {
    "name": "ipython",
    "version": 3
   },
   "file_extension": ".py",
   "mimetype": "text/x-python",
   "name": "python",
   "nbconvert_exporter": "python",
   "pygments_lexer": "ipython3",
   "version": "3.8.8"
  }
 },
 "nbformat": 4,
 "nbformat_minor": 5
}
